{
 "cells": [
  {
   "cell_type": "code",
   "execution_count": 1,
   "id": "136ee2d8-9382-4a05-b2cd-6adbbf442771",
   "metadata": {},
   "outputs": [],
   "source": [
    "import os\n",
    "\n",
    "setting_proxy=True\n",
    "\n",
    "if setting_proxy:\n",
    "    proxy_address = 'http://127.0.0.1:7890'\n",
    "    os.environ['http_proxy'] = proxy_address\n",
    "    os.environ['https_proxy'] = proxy_address"
   ]
  },
  {
   "cell_type": "code",
   "execution_count": 2,
   "id": "a109d88a-0345-41db-8260-8877019f35f4",
   "metadata": {},
   "outputs": [
    {
     "name": "stderr",
     "output_type": "stream",
     "text": [
      "/usr/local/miniconda3/lib/python3.8/site-packages/tqdm/auto.py:21: TqdmWarning: IProgress not found. Please update jupyter and ipywidgets. See https://ipywidgets.readthedocs.io/en/stable/user_install.html\n",
      "  from .autonotebook import tqdm as notebook_tqdm\n",
      "Explicitly passing a `revision` is encouraged when loading a model with custom code to ensure no malicious code has been contributed in a newer revision.\n",
      "Explicitly passing a `revision` is encouraged when loading a configuration with custom code to ensure no malicious code has been contributed in a newer revision.\n",
      "Explicitly passing a `revision` is encouraged when loading a model with custom code to ensure no malicious code has been contributed in a newer revision.\n",
      "Loading checkpoint shards: 100%|██████████| 8/8 [00:07<00:00,  1.07it/s]\n",
      "/usr/local/miniconda3/lib/python3.8/site-packages/_distutils_hack/__init__.py:33: UserWarning: Setuptools is replacing distutils.\n",
      "  warnings.warn(\"Setuptools is replacing distutils.\")\n",
      "\u001b[32m[2023-06-19 10:40:24,916] [    INFO]\u001b[0m - We are using <class 'paddlenlp.transformers.ernie.tokenizer.ErnieTokenizer'> to load '/root/.paddlenlp/taskflow/information_extraction/uie-base-en'.\u001b[0m\n"
     ]
    }
   ],
   "source": [
    "#from news_api import search_news, search_headlines\n",
    "\n",
    "from transformers import AutoTokenizer, AutoModel\n",
    "tokenizer = AutoTokenizer.from_pretrained(\"THUDM/chatglm-6b\", trust_remote_code=True)\n",
    "chat_model = AutoModel.from_pretrained(\"THUDM/chatglm-6b\",trust_remote_code=True ).half().cuda()\n",
    "\n",
    "from pprint import pprint\n",
    "from paddlenlp import Taskflow\n",
    "schema = ['name', 'time', 'location','organization',\"product\",\"date\"] # Define the schema for entity extraction\n",
    "ie = Taskflow('information_extraction', schema=schema, model=\"uie-base-en\")\n",
    "\n",
    "from sentence_transformers import SentenceTransformer\n",
    "from sklearn.metrics.pairwise import cosine_similarity\n",
    "sim_model = SentenceTransformer('multi-qa-MiniLM-L6-cos-v1')"
   ]
  },
  {
   "cell_type": "code",
   "execution_count": 3,
   "id": "edadc432-3571-41b0-bc57-c8613897d5f0",
   "metadata": {},
   "outputs": [],
   "source": [
    "import requests as r\n",
    "\n",
    "import os\n",
    "\n",
    "setting_proxy=True\n",
    "news_key='097e4195453c47bb8c3ef0e6427493a7'\n",
    "\n",
    "if setting_proxy:\n",
    "    proxy_address = 'http://127.0.0.1:7890'\n",
    "    os.environ['http_proxy'] = proxy_address\n",
    "    os.environ['https_proxy'] = proxy_address\n",
    "\n",
    "\n",
    "def search_news(keywords,from_date='2023-05-20',to_date='2023-06-18'):\n",
    "    url = 'https://newsapi.org/v2/everything'\n",
    "    params = {\n",
    "        'q': keywords,\n",
    "        'from': from_date,\n",
    "        'to': to_date,\n",
    "        'sortBy': 'popularity',#   'publishedAt', # popularity\n",
    "        'apiKey': news_key,\n",
    "        'language':'en'\n",
    "    }\n",
    "    try:\n",
    "        response = r.get(url, params=params)\n",
    "        # Process the response as needed\n",
    "        return response.json()[\"articles\"]\n",
    "    except r.exceptions.RequestException as e:\n",
    "        print('An error occurred:', e)\n",
    "\n",
    "def search_headlines(from_date='2023-05-20',to_date='2023-06-18'):\n",
    "    url = 'https://newsapi.org/v2/top-headlines'\n",
    "    params = {\n",
    "        #'q': keywords,\n",
    "        'from': from_date,\n",
    "        #'to': '2023-06-18',\n",
    "        #'sortBy': 'popularity',#   'publishedAt', # popularity\n",
    "        'apiKey': news_key,\n",
    "        'country': 'us',\n",
    "        'category': \"business\",\n",
    "        'language':'en'\n",
    "    }\n",
    "    \n",
    "    try:\n",
    "        response = r.get(url, params=params)\n",
    "        # Process the response as needed\n",
    "        return response.json()[\"articles\"]\n",
    "    except r.exceptions.RequestException as e:\n",
    "        print('An error occurred:', e)"
   ]
  },
  {
   "cell_type": "code",
   "execution_count": 4,
   "id": "3f2e57bb-1472-42ad-a597-9ad78d664ef2",
   "metadata": {},
   "outputs": [
    {
     "name": "stdout",
     "output_type": "stream",
     "text": [
      "Searching:   business yesterday\n"
     ]
    },
    {
     "data": {
      "text/plain": [
       "('', 'business', 'yesterday')"
      ]
     },
     "execution_count": 4,
     "metadata": {},
     "output_type": "execute_result"
    }
   ],
   "source": [
    "def chatbot(query=\"\",history=[]):\n",
    "    response=chat_model.chat(tokenizer,query,history)\n",
    "    #print(response[0])\n",
    "    return response[0]\n",
    "\n",
    "def sentence_rank(sentences):\n",
    "    sentence_embeddings = sim_model.encode(sentences)\n",
    "    similarity_matrix = cosine_similarity(sentence_embeddings)\n",
    "    first_sentence_similarity_scores = similarity_matrix[0]\n",
    "    sorted_indexes = first_sentence_similarity_scores.argsort()[::-1]\n",
    "    sorted_sentences = [sentences[i] for i in sorted_indexes]\n",
    "    return sorted_sentences\n",
    "\n",
    "def IE(query):\n",
    "    entities=\"\"\n",
    "    category=\"\"\n",
    "    time_period=\"\"\n",
    "    ans=ie(query)\n",
    "    for kk in ans[0].keys():\n",
    "        if kk==\"date\":\n",
    "            time_period=ans[0][\"date\"][0][\"text\"]\n",
    "            continue\n",
    "        for ss in ans[0][kk]:\n",
    "            entities+=(ss[\"text\"]+\" \")\n",
    "    \n",
    "    topics=[\"business\",\"entertainment\",\"general health\",\"science\",\"sports\",\"technology\"]\n",
    "    for ss in topics:\n",
    "        if ss in query:\n",
    "            category=ss\n",
    "            break\n",
    "    if entities!=0:\n",
    "        print(\"Searching: \",entities, category, time_period)\n",
    "    else:\n",
    "        print(\"Searching: \",\"Headlines \", category, time_period)\n",
    "    return entities, category, time_period\n",
    "\n",
    "from datetime import datetime\n",
    "def date_understanding(date_string):\n",
    "    date=chatbot(date_string,history=[(\"Today is June 19th, 2023. Please convert my date description into a standard date string. Please only answer a standard date string\",\"Sure! The standard date string for June 19th, 2023 is '2023-06-19'.\"),(\"July 5th\",\"2023-07-05\"),(\"September 10th, 2022\",\"2022-09-10\"),(\"first week in November\",\"2023-11-07\"),(\"last month\",\"2023-05-19\"),(\"today\",\"2023-06-19\")])\n",
    "    try:\n",
    "        \n",
    "        start_date = datetime.strptime('2023-05-20', '%Y-%m-%d')\n",
    "        end_date = datetime.strptime('2023-06-18', '%Y-%m-%d')\n",
    "        if start_date <= datetime.strptime(date, '%Y-%m-%d') <= end_date:\n",
    "            return True, date\n",
    "        elif start_date >= datetime.strptime(date, '%Y-%m-%d'):\n",
    "            return True, \"2023-05-20\"\n",
    "        else:\n",
    "            return True, \"2023-06-18\"\n",
    "        return True, date\n",
    "    except ValueError:\n",
    "        return False, \"\"\n",
    "\n",
    "IE(\"What recent news is there about business yesterday?\")"
   ]
  },
  {
   "cell_type": "code",
   "execution_count": 5,
   "id": "75179a90-2987-42e9-bab5-960b393bdcd7",
   "metadata": {},
   "outputs": [],
   "source": [
    "def chat_news(query):\n",
    "    entities, category, time_period=IE(query)\n",
    "    valid_date=False\n",
    "    if len(time_period)!=0:\n",
    "        valid_date,date=date_understanding(time_period)\n",
    "    if not valid_date:\n",
    "        date=\"2023-05-20\"\n",
    "    if len(entities)!=0:\n",
    "        re=search_news(entities,date)\n",
    "    elif len(category)!=0:\n",
    "        re=search_news(entities+category,date)\n",
    "    else:\n",
    "        re=search_headlines(date)\n",
    "    sentences=[query]\n",
    "    for art in re:\n",
    "        sentences.append(art[\"description\"])\n",
    "    retrieved_sents=sentence_rank(sentences)\n",
    "    prompt=\"Here are related news:\\n\"\n",
    "    for i in range(5):\n",
    "        prompt+=\"\\n#\"+str(i)+\"\\n\"\n",
    "        prompt+=retrieved_sents[i+1]\n",
    "    prompt+=\"\\n\\nAccording to the above news, tell me \"\n",
    "    prompt+=query\n",
    "    prompt+=\"\\n\"\n",
    "    #print(prompt)\n",
    "    response=chatbot(prompt)\n",
    "    print(response)\n",
    "    #return response[0]"
   ]
  },
  {
   "cell_type": "code",
   "execution_count": 6,
   "id": "59dcd48b-9919-4fda-8ea0-4415c1548eec",
   "metadata": {},
   "outputs": [
    {
     "name": "stderr",
     "output_type": "stream",
     "text": [
      "The dtype of attention mask (torch.int64) is not bool\n"
     ]
    },
    {
     "name": "stdout",
     "output_type": "stream",
     "text": [
      "Searching:    yesterday\n",
      "It appears that the topics of interest for yesterday include:\n",
      "\n",
      "1. Microsoft outages and cyberattack\n",
      "2. Reddit blackout\n",
      "3. Elon Musk's opinions\n",
      "4. BlackRock applying for a spot Bitcoin ETF\n",
      "5. U.S. representative introducing bill to fire SEC's chief Gary Gensler\n",
      "\n",
      "These topics may have been covered in the news articles you provided. However, it is important to note that the accuracy and completeness of the information in the news articles may vary.\n"
     ]
    }
   ],
   "source": [
    "chat_news(\"What are the top news stories yesterday?\")"
   ]
  },
  {
   "cell_type": "code",
   "execution_count": 7,
   "id": "39176115-4ca9-4bb8-ba4a-8a7e4c2c1c06",
   "metadata": {},
   "outputs": [
    {
     "name": "stdout",
     "output_type": "stream",
     "text": [
      "Searching:  Trump   June 5th\n",
      "Yes, it is true that Donald Trump has been indicted on seven counts in a special counsel probe into his handling of a cache of classified documents. The indictment was announced on June 10, 2021. However, it is important to note that this is a separate case from the ongoing investigations into Russian interference in the 2016 election, and whether Trump's campaign collaborated with the Russian government. It is also possible that the charges in this case are related to other matters that have not been publicly disclosed.\n"
     ]
    }
   ],
   "source": [
    "chat_news(\"Is it true that Donald Trump has recently been accused of a crime after June 5th?\")"
   ]
  },
  {
   "cell_type": "code",
   "execution_count": 8,
   "id": "d97db068-0499-40da-a2ae-dd6960f639f1",
   "metadata": {},
   "outputs": [
    {
     "name": "stdout",
     "output_type": "stream",
     "text": [
      "Searching:  Musk   \n",
      "There are several recent news articles about Elon Musk. Here are some of the main events:\n",
      "\n",
      "* A shareholder lawsuit against Elon Musk has been thrown out by a judge.\n",
      "* Elon Musk was scheduled to visit Tesla's Shanghai plant on Wednesday night.\n",
      "* He launched his bid for the White House on Twitter, but it has been revealed that the platform has technical and political limitations.\n",
      "* Elon Musk hosts an event for an anti-vaxx Democratic candidate on Twitter.\n",
      "\n",
      "Overall, it appears that Elon Musk is involved in several different projects and events in the past few weeks.\n"
     ]
    }
   ],
   "source": [
    "chat_news(\"What recent news is there about Elon Musk?\")"
   ]
  },
  {
   "cell_type": "code",
   "execution_count": 9,
   "id": "7a803014-5736-4314-8797-542284246960",
   "metadata": {},
   "outputs": [
    {
     "name": "stdout",
     "output_type": "stream",
     "text": [
      "Searching:  Vision Pro   \n",
      "Apple released the Vision Pro product.\n"
     ]
    }
   ],
   "source": [
    "chat_news(\"Which company recently released the Vision Pro product?\")"
   ]
  },
  {
   "cell_type": "code",
   "execution_count": 11,
   "id": "1f72e5e1-5d85-4197-ad4b-bbfa3799ba8f",
   "metadata": {},
   "outputs": [
    {
     "name": "stdout",
     "output_type": "stream",
     "text": [
      "Searching:   business the past 7 days\n",
      "There have been several business news articles in the past 7 days related to:\n",
      "\n",
      "* The SEC launching two lawsuits over retail crypto trading\n",
      "* A change to Facebook's algorithm causing a drop in traffic to news and media websites\n",
      "* The start of Summer Game Fest and its impact on the gaming industry\n",
      "* First Citizens announced job cuts after buying the US operations of another troubled lender\n",
      "* Microsoft's OpenAI deal, with GPT-4-backed chatbot and generative capabilities coming to Office products\n",
      "\n",
      "Please note that this is only a partial list and there may be other business news articles that I have not covered.\n"
     ]
    }
   ],
   "source": [
    "chat_news(\"What business news has there been in the past 7 days?\")"
   ]
  }
 ],
 "metadata": {
  "kernelspec": {
   "display_name": "Python 3 (ipykernel)",
   "language": "python",
   "name": "python3"
  },
  "language_info": {
   "codemirror_mode": {
    "name": "ipython",
    "version": 3
   },
   "file_extension": ".py",
   "mimetype": "text/x-python",
   "name": "python",
   "nbconvert_exporter": "python",
   "pygments_lexer": "ipython3",
   "version": "3.8.10"
  }
 },
 "nbformat": 4,
 "nbformat_minor": 5
}
